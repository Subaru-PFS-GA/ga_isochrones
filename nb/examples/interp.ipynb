{
 "cells": [
  {
   "cell_type": "markdown",
   "metadata": {},
   "source": [
    "# Isochrone interpolation"
   ]
  },
  {
   "cell_type": "code",
   "execution_count": 0,
   "metadata": {},
   "outputs": [],
   "source": [
    "# ISOCHRONES_PATH = '/datascope/subaru/data/isochrones/dartmouth/import/afep0_cfht_sdss_hsc_nb_bosz/isochrones.h5'\n",
    "ISOCHRONES_PATH = '/datascope/subaru/data/isochrones/dartmouth/import/afep0_cfht_sdss_hsc/isochrones.h5'\n",
    "\n",
    "MAG1, MAG2, MAG3 = 'hsc_g', 'hsc_i', 'hsc_i'"
   ]
  },
  {
   "cell_type": "code",
   "execution_count": 0,
   "metadata": {},
   "outputs": [],
   "source": [
    "%matplotlib inline"
   ]
  },
  {
   "cell_type": "code",
   "execution_count": 0,
   "metadata": {},
   "outputs": [],
   "source": [
    "import os, sys\n",
    "import numpy as np\n",
    "import h5py as h5\n",
    "import matplotlib.pyplot as plt\n",
    "from matplotlib.colors import LinearSegmentedColormap\n",
    "from matplotlib.ticker import AutoMinorLocator, MultipleLocator"
   ]
  },
  {
   "cell_type": "code",
   "execution_count": 0,
   "metadata": {},
   "outputs": [],
   "source": [
    "plt.rc('font', size=7)"
   ]
  },
  {
   "cell_type": "code",
   "execution_count": 0,
   "metadata": {},
   "outputs": [],
   "source": [
    "os.environ['CUDA_VISIBLE_DEVICES'] = ''"
   ]
  },
  {
   "cell_type": "markdown",
   "metadata": {},
   "source": [
    "## Load grid from HDF5"
   ]
  },
  {
   "cell_type": "code",
   "execution_count": 0,
   "metadata": {},
   "outputs": [],
   "source": [
    "from pfs.ga.isochrones import IsoGrid\n",
    "import pfs.ga.isochrones.tensorlib as tt"
   ]
  },
  {
   "cell_type": "code",
   "execution_count": 0,
   "metadata": {},
   "outputs": [],
   "source": [
    "iso = IsoGrid()\n",
    "iso.load(os.path.expandvars(ISOCHRONES_PATH))"
   ]
  },
  {
   "cell_type": "code",
   "execution_count": 0,
   "metadata": {},
   "outputs": [],
   "source": [
    "iso.axes.keys()"
   ]
  },
  {
   "cell_type": "code",
   "execution_count": 0,
   "metadata": {},
   "outputs": [],
   "source": [
    "for k in iso.values.keys():\n",
    "    print(k, \n",
    "          tt.cpu(tt.count_nonzero(tt.isinf(iso.values[k]))),\n",
    "          tt.cpu(tt.count_nonzero(tt.isnan(iso.values[k]))))"
   ]
  },
  {
   "cell_type": "markdown",
   "metadata": {},
   "source": [
    "## Interpolate isochrones"
   ]
  },
  {
   "cell_type": "code",
   "execution_count": 0,
   "metadata": {},
   "outputs": [],
   "source": [
    "# Interpolate as a function of [Fe/H], log t and EEP\n",
    "\n",
    "f, ax = plt.subplots(1, 1, figsize=(4.5, 4.5), dpi=240)\n",
    "\n",
    "for fe_h in [-2.5, -2.0, -1.5, -1.0, -0.5]:\n",
    "    M_ini = tt.tensor(np.linspace(0.75, 0.9, 10000))\n",
    "    log_t = tt.tensor(np.full_like(M_ini, np.log10(12e9)))\n",
    "    Fe_H = tt.tensor(np.full_like(M_ini, fe_h))\n",
    "    \n",
    "    mi_EEP, mi_M_ini, [hsc_g, hsc_i], mask = iso.interp3d(Fe_H, log_t, M_ini, [iso.values['hsc_g'], iso.values['hsc_i']])\n",
    "    ax.plot(hsc_g - hsc_i, hsc_i, '-r', lw=0.5)\n",
    "\n",
    "for m_ini in np.arange(0.75, 0.9, 0.01):\n",
    "    # Fe_H = tt.tensor(np.linspace(-2.5, -0.5, 10000))\n",
    "    # Fe_H = tt.tensor(-0.5 - 2.0 * (np.logspace(0, 1, 1000) - 1) / 9)\n",
    "    Fe_H = tt.tensor(-2.5 + 2.0 * (np.logspace(0, 1, 10000) - 1) / 9)\n",
    "    log_t = tt.tensor(np.full_like(Fe_H, np.log10(12e9)))\n",
    "    M_ini = tt.tensor(np.full_like(Fe_H, m_ini))\n",
    "    \n",
    "    mi_EEP, mi_M_ini, [hsc_g, hsc_i], mask = iso.interp3d(Fe_H, log_t, M_ini, [iso.values['hsc_g'], iso.values['hsc_i']])\n",
    "    if mask.numpy().sum() > 0:\n",
    "        try:\n",
    "            ax.plot(hsc_g - hsc_i, hsc_i, '-b', lw=0.5)\n",
    "        except:\n",
    "            pass\n",
    "\n",
    "# for eep in np.arange(160, 280, 10):\n",
    "for eep in np.arange(230, 240, 1):\n",
    "    Fe_H = tt.tensor(np.linspace(-2.5, -0.5, 100), dtype=tt.float64)\n",
    "    EEP = tt.tensor(np.full_like(Fe_H, eep))\n",
    "    log_t = tt.tensor(np.full_like(EEP, np.log10(12e9)))\n",
    "\n",
    "    mi_EEP, mi_M_ini, [hsc_g, hsc_i], mask = iso.interp3d_EEP(Fe_H, log_t, EEP, [iso.values['hsc_g'], iso.values['hsc_i']])\n",
    "    ax.plot(hsc_g - hsc_i, hsc_i, '-k', lw=0.5)\n",
    "\n",
    "ax.invert_yaxis()\n",
    "\n",
    "# Zoom in on a wiggle\n",
    "\n",
    "# ax.set_xlim(0.5, 1.0)\n",
    "# ax.set_ylim(-0.5, 0.5)"
   ]
  },
  {
   "cell_type": "code",
   "execution_count": 0,
   "metadata": {},
   "outputs": [],
   "source": [
    "M_ini = tt.tensor(np.linspace(0.8, 2.8, 10000))\n",
    "log_t = tt.tensor(np.full_like(M_ini, 9.0))\n",
    "Fe_H = tt.tensor(np.full_like(M_ini, 0.0))"
   ]
  },
  {
   "cell_type": "code",
   "execution_count": 0,
   "metadata": {},
   "outputs": [],
   "source": [
    "mi_EEP, mi_M_ini, [hsc_g, hsc_i], mask = iso.interp3d(Fe_H, log_t, M_ini, [iso.values['hsc_g'], iso.values['hsc_i']])"
   ]
  },
  {
   "cell_type": "code",
   "execution_count": 0,
   "metadata": {},
   "outputs": [],
   "source": [
    "f, ax = plt.subplots(1, 1)\n",
    "\n",
    "ax.plot(hsc_g - hsc_i, hsc_i, '.')\n",
    "ax.invert_yaxis()"
   ]
  },
  {
   "cell_type": "code",
   "execution_count": 0,
   "metadata": {},
   "outputs": [],
   "source": []
  }
 ],
 "metadata": {
  "kernelspec": {
   "display_name": "dobos-torch",
   "language": "python",
   "name": "python3"
  },
  "language_info": {
   "codemirror_mode": {
    "name": "ipython",
    "version": 3
   },
   "file_extension": ".py",
   "mimetype": "text/x-python",
   "name": "python",
   "nbconvert_exporter": "python",
   "pygments_lexer": "ipython3",
   "version": "3.10.15"
  }
 },
 "nbformat": 4,
 "nbformat_minor": 4
}