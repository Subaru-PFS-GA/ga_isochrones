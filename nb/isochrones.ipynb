{
 "cells": [
  {
   "cell_type": "code",
   "execution_count": 0,
   "id": "751d35e9-93ce-4bcf-b391-0ca5ca2d4f49",
   "metadata": {},
   "outputs": [],
   "source": [
    "PROJECT_PATH = '../python'\n",
    "ISOCHRONES_PATH = '/datascope/subaru/data/isochrones/mist/import/MIST_v1.2_vvcrit0.0_HSC.h5'\n",
    "\n",
    "MAG1, MAG2, MAG3 = 'hsc_g', 'hsc_i', 'hsc_i'"
   ]
  },
  {
   "cell_type": "code",
   "execution_count": 0,
   "id": "6561bf20-27f4-44a0-9d27-e4b755f2355a",
   "metadata": {},
   "outputs": [],
   "source": [
    "%matplotlib inline"
   ]
  },
  {
   "cell_type": "code",
   "execution_count": 0,
   "id": "dbbd988a-91cf-4884-be9a-9b23bc3ab8b3",
   "metadata": {},
   "outputs": [],
   "source": [
    "import os, sys\n",
    "import numpy as np\n",
    "import h5py as h5\n",
    "import matplotlib.pyplot as plt\n",
    "from matplotlib.colors import LinearSegmentedColormap\n",
    "from matplotlib.ticker import AutoMinorLocator, MultipleLocator"
   ]
  },
  {
   "cell_type": "code",
   "execution_count": 0,
   "id": "fca09227",
   "metadata": {},
   "outputs": [],
   "source": [
    "plt.rc('font', size=7)"
   ]
  },
  {
   "cell_type": "code",
   "execution_count": 0,
   "id": "612a9af9-51e2-41d0-9a4f-666abcdbbde3",
   "metadata": {},
   "outputs": [],
   "source": [
    "# Disable GPU access for TensorFlow, use CPU instead.\n",
    "# Use this option if using shared GPUs on big servers to prevent holding the GPU memory\n",
    "# when notebooks are left running for a longer time. Do not use this option when\n",
    "# high performance execution is required.\n",
    "os.environ['CUDA_VISIBLE_DEVICES'] = ''"
   ]
  },
  {
   "cell_type": "code",
   "execution_count": 0,
   "id": "0d52e5b7-e023-4457-9c7b-8e7e8656077c",
   "metadata": {},
   "outputs": [],
   "source": [
    "import tensorflow.compat.v2 as tf\n",
    "tf.enable_v2_behavior()"
   ]
  },
  {
   "cell_type": "code",
   "execution_count": 0,
   "id": "5c0990b4",
   "metadata": {},
   "outputs": [],
   "source": [
    "tf.config.list_physical_devices('CPU')"
   ]
  },
  {
   "cell_type": "code",
   "execution_count": 0,
   "id": "925c9244-ddbb-4f57-b62a-73d4f24ff7b0",
   "metadata": {},
   "outputs": [],
   "source": [
    "tf.config.list_physical_devices('GPU') "
   ]
  },
  {
   "cell_type": "code",
   "execution_count": 0,
   "id": "ba417444",
   "metadata": {},
   "outputs": [],
   "source": [
    "for p in reversed(PROJECT_PATH.split(':')):\n",
    "    sys.path.insert(0, p)"
   ]
  },
  {
   "attachments": {},
   "cell_type": "markdown",
   "id": "0c6e3c86-1c5b-4505-9af6-fb5e485f86ef",
   "metadata": {
    "tags": []
   },
   "source": [
    "# Evaluate isochrone grid\n",
    "\n",
    "## Load grid from HDF5"
   ]
  },
  {
   "cell_type": "code",
   "execution_count": 0,
   "id": "d6e3325d-f18f-4e1d-a2fe-7c9e30a04448",
   "metadata": {},
   "outputs": [],
   "source": [
    "from pfs.ga.isochrones import IsoGrid"
   ]
  },
  {
   "cell_type": "code",
   "execution_count": 0,
   "id": "0be0732c-eba4-4bb6-97b7-8b8378e7e472",
   "metadata": {},
   "outputs": [],
   "source": [
    "iso = IsoGrid()\n",
    "iso.load(os.path.expandvars(ISOCHRONES_PATH))"
   ]
  },
  {
   "cell_type": "code",
   "execution_count": 0,
   "id": "47faa4b9-d8c0-4b8c-aa4f-5e97e4eb5838",
   "metadata": {},
   "outputs": [],
   "source": [
    "iso.axes.keys()"
   ]
  },
  {
   "cell_type": "code",
   "execution_count": 0,
   "id": "fa170cf6-8338-4009-bb11-a414d19992e3",
   "metadata": {},
   "outputs": [],
   "source": [
    "for k in iso.values.keys():\n",
    "    print(k, \n",
    "          tf.math.count_nonzero(tf.math.is_inf(iso.values[k])).numpy(),\n",
    "          tf.math.count_nonzero(tf.math.is_nan(iso.values[k])).numpy())"
   ]
  },
  {
   "attachments": {},
   "cell_type": "markdown",
   "id": "8607ad82-1583-4913-91b4-0f7e52d90d40",
   "metadata": {},
   "source": [
    "## Atmospheric parameter ranges"
   ]
  },
  {
   "cell_type": "code",
   "execution_count": 0,
   "id": "2193839b-5fba-422f-b8f5-0eaf92206ccf",
   "metadata": {},
   "outputs": [],
   "source": [
    "def get_range(k):\n",
    "    mask = ~tf.math.is_inf(iso.values[k])\n",
    "    mn = tf.math.reduce_min(tf.where(mask, iso.values[k], 1e10))\n",
    "    mx = tf.math.reduce_max(tf.where(mask, iso.values[k], 0))\n",
    "    return mn.numpy(), mx.numpy()\n",
    "    \n",
    "log_t_eff_min, log_t_eff_max = get_range('log_T_eff')\n",
    "print('T_eff', 10 ** log_t_eff_min, 10 ** log_t_eff_max)\n",
    "print('log_g', get_range('log_g'))\n",
    "print('[Fe/H]', iso.Fe_H[0].numpy(), iso.Fe_H[-1].numpy())"
   ]
  },
  {
   "attachments": {},
   "cell_type": "markdown",
   "id": "e833d4d0-5271-472a-b563-4858d4f6e44b",
   "metadata": {},
   "source": [
    "## Plot the isochrones"
   ]
  },
  {
   "cell_type": "code",
   "execution_count": 0,
   "id": "95a5001f-814f-422d-b201-946eb200408b",
   "metadata": {},
   "outputs": [],
   "source": [
    "iso.Fe_H"
   ]
  },
  {
   "cell_type": "code",
   "execution_count": 0,
   "id": "f924c11d-6f1e-4098-8f7a-ffda5e96090d",
   "metadata": {},
   "outputs": [],
   "source": [
    "iso.log_t"
   ]
  },
  {
   "cell_type": "code",
   "execution_count": 0,
   "id": "684abe50-5739-4cb4-9143-d1fc8dda8354",
   "metadata": {},
   "outputs": [],
   "source": [
    "iso.EEP"
   ]
  },
  {
   "cell_type": "code",
   "execution_count": 0,
   "id": "8f82335f-a38a-4521-a311-12344787c5ed",
   "metadata": {},
   "outputs": [],
   "source": [
    "f, ax = plt.subplots(1, 1, figsize=(6, 6), dpi=120)\n",
    "\n",
    "X = (iso.values[MAG1] - iso.values[MAG2]).numpy().flatten()\n",
    "Y = iso.values[MAG3].numpy().flatten()\n",
    "\n",
    "ax.plot(X, Y, 'sk', ms=0.1, alpha=0.1, rasterized=True)\n",
    "ax.invert_yaxis()"
   ]
  },
  {
   "attachments": {},
   "cell_type": "markdown",
   "id": "803f3c52-9b47-4a73-b58a-5cc395075558",
   "metadata": {},
   "source": [
    "## Plot a few isochrones"
   ]
  },
  {
   "cell_type": "code",
   "execution_count": 0,
   "id": "cfad35c4-279e-4bcf-baf4-25d283b2330f",
   "metadata": {},
   "outputs": [],
   "source": [
    "iso.values[MAG1].shape"
   ]
  },
  {
   "cell_type": "code",
   "execution_count": 0,
   "id": "9b6f5172",
   "metadata": {},
   "outputs": [],
   "source": [
    "iso.log_t"
   ]
  },
  {
   "cell_type": "code",
   "execution_count": 0,
   "id": "4193a967-b8fa-42b3-89d4-d388301e3db9",
   "metadata": {},
   "outputs": [],
   "source": [
    "Fe_H = tf.convert_to_tensor(-0.5, dtype=tf.float64)\n",
    "print('Fe_H', iso._ip._find_nearby(iso.Fe_H, Fe_H))\n",
    "\n",
    "log_t = tf.convert_to_tensor(np.log10(1e9), dtype=tf.float64)\n",
    "print('log_t', iso._ip._find_nearby(iso.log_t, log_t))\n",
    "\n",
    "EEP = tf.convert_to_tensor([202, 605], dtype=tf.float64)  # ZAMS, ToRGB\n",
    "print('EEP', iso._ip._find_nearby(iso.EEP, EEP))"
   ]
  },
  {
   "cell_type": "code",
   "execution_count": 0,
   "id": "39f09831",
   "metadata": {},
   "outputs": [],
   "source": [
    "iso.axes.keys()"
   ]
  },
  {
   "cell_type": "code",
   "execution_count": 0,
   "id": "99c2baf6",
   "metadata": {},
   "outputs": [],
   "source": [
    "iso.values.keys()"
   ]
  },
  {
   "cell_type": "code",
   "execution_count": 0,
   "id": "60761e87",
   "metadata": {},
   "outputs": [],
   "source": [
    "f, axs = plt.subplots(2, 2, figsize=(3.4, 4.5), facecolor='w', dpi=240, sharey=False, squeeze=False)\n",
    "\n",
    "s = np.s_[4, 102, 202:606]      # -2.0, 13Gyr\n",
    "log_T_eff = iso.values['log_T_eff'][s]\n",
    "log_g = iso.values['log_g'][s]\n",
    "axs[0, 0].plot(10**log_T_eff, log_g, '-b', lw=0.5)\n",
    "\n",
    "m1 = iso.values[MAG1][s]\n",
    "m2 = iso.values[MAG2][s]\n",
    "axs[1, 0].plot(m1 - m2, m1, 'b-', lw=0.5)\n",
    "\n",
    "s = np.s_[7, 102, 202:606]      # -1.5, 13Gyr\n",
    "log_T_eff = iso.values['log_T_eff'][s]\n",
    "log_g = iso.values['log_g'][s]\n",
    "axs[0, 0].plot(10**log_T_eff, log_g, '-b', lw=0.5)\n",
    "\n",
    "m1 = iso.values[MAG1][s]\n",
    "m2 = iso.values[MAG2][s]\n",
    "axs[1, 0].plot(m1 - m2, m1, 'b-', lw=0.5)\n",
    "\n",
    "for p in [(4000, 5.0), (4750, 4.5), (5500, 4.5), (4000, 0.5), (4750, 2.0), (5500, 3.5)]:\n",
    "    axs[0, 0].plot(*p, '.r')\n",
    "\n",
    "for T_eff in [4000, 4750, 5500]:\n",
    "    axs[0, 0].axvline(T_eff, ls='--', c='k', lw=0.5)\n",
    "\n",
    "# axs[0, 0].text(0, 1, '\\n [Fe/H] = $-2.0, -1.5$',\n",
    "#                va='top', ha='left', transform=axs[0, 0].transAxes)\n",
    "axs[0, 0].set_title('[Fe/H] = $-2.0, -1.5$\\nage = 13 Gyr', fontsize=7)\n",
    "\n",
    "###\n",
    "\n",
    "s = np.s_[9, 86, 202:606]      # -0.7, 2Gyr\n",
    "log_T_eff = iso.values['log_T_eff'][s]\n",
    "log_g = iso.values['log_g'][s]\n",
    "axs[0, 1].plot(10**log_T_eff, log_g, '-b', lw=0.5)\n",
    "\n",
    "m1 = iso.values[MAG1][s]\n",
    "m2 = iso.values[MAG2][s]\n",
    "axs[1, 1].plot(m1 - m2, m1, 'b-', lw=0.5)\n",
    "\n",
    "s = np.s_[11, 86, 202:606]      # -0.5, 2Gyr\n",
    "log_T_eff = iso.values['log_T_eff'][s]\n",
    "log_g = iso.values['log_g'][s]\n",
    "axs[0, 1].plot(10**log_T_eff, log_g, '-b', lw=0.5)\n",
    "\n",
    "m1 = iso.values[MAG1][s]\n",
    "m2 = iso.values[MAG2][s]\n",
    "axs[1, 1].plot(m1 - m2, m1, 'b-', lw=0.5)\n",
    "\n",
    "for p in [(3500, 5.0), (4500, 4.5), (5500, 4.5), (3500, 0.5), (4500, 2.0), (5500, 3.5)]:\n",
    "    axs[0, 1].plot(*p, '.r')\n",
    "\n",
    "for T_eff in [3500, 4500, 5500]:\n",
    "    axs[0, 1].axvline(T_eff, ls='--', c='k', lw=0.5)\n",
    "\n",
    "axs[0, 1].set_title('[Fe/H] = $-0.7, -0.5$\\nage = 2 Gyr', fontsize=7)\n",
    "\n",
    "###\n",
    "\n",
    "for ax in axs[0, :].ravel():\n",
    "    ax.set_ylim(0.1, 5.9)\n",
    "    ax.set_xlabel(r'$T_\\mathrm{eff}$ [K]')\n",
    "    ax.invert_xaxis()\n",
    "    ax.invert_yaxis()\n",
    "\n",
    "for ax in axs[0, :-1].ravel():\n",
    "    ax.set_ylabel(r'$\\log g$')\n",
    "\n",
    "for ax in axs[0, 1:].ravel():\n",
    "    ax.yaxis.set_ticklabels([])\n",
    "\n",
    "###\n",
    "\n",
    "for ax in axs[1, :].ravel():\n",
    "    ax.set_xlabel(r'HSC g - HSC i')\n",
    "    ax.set_xlim(-0.5, 3.5)\n",
    "    ax.set_ylim(-2.5, 14.5)\n",
    "    \n",
    "    ax.invert_yaxis()\n",
    "\n",
    "for ax in axs[1, :-1].ravel():\n",
    "    ax.set_ylabel(r'HSC i')\n",
    "\n",
    "for ax in axs[1, 1:].ravel():\n",
    "    ax.yaxis.set_ticklabels([])\n",
    "\n",
    "for ax in axs.ravel():\n",
    "    ax.tick_params(which='major', left=True, top=True, bottom=True, right=True)\n",
    "    ax.tick_params(which='minor', left=False, top=False, bottom=False, right=False)\n",
    "    ax.tick_params(which='major', axis=\"both\", direction=\"in\")\n",
    "\n",
    "\n",
    "#     ax.xaxis.set_minor_locator(AutoMinorLocator(4))\n",
    "#     ax.yaxis.set_minor_locator(AutoMinorLocator(4))\n",
    "\n",
    "#     #ax.grid(True)\n",
    "#     #ax.grid(which='minor', axis='both', alpha=0.15)\n",
    "\n",
    "f.tight_layout()"
   ]
  },
  {
   "cell_type": "code",
   "execution_count": 0,
   "id": "02cfa070-9340-44aa-b6ea-8ca0aeebfe80",
   "metadata": {},
   "outputs": [],
   "source": [
    "# metallicity, age, EEP\n",
    "# s = np.s_[4, 102, 202:606]      # -2.0, 13Gyr\n",
    "# s = np.s_[6, 102, 202:606]      # -1.5, 13Gyr\n",
    "s = np.s_[9, 86, 202:606]      # -0.5, 2Gyr\n",
    "# s = np.s_[12, 80, 202:606]      # 0.0, 1Gyr\n",
    "# s = np.s_[12, 86, 202:606]      # 0.0, 2Gyr\n",
    "\n",
    "f, axs = plt.subplots(1, 2, figsize=(5, 2.5), facecolor='w', dpi=240)\n",
    "\n",
    "m1 = iso.values[MAG1][s]\n",
    "m2 = iso.values[MAG2][s]\n",
    "\n",
    "axs[0].plot(m1 - m2, m1, '-')\n",
    "\n",
    "axs[0].set_xlabel(f'${MAG1} - {MAG2}$')\n",
    "axs[0].set_ylabel(f'${MAG3}$')\n",
    "#axs[0].set_ylim(14, -5)\n",
    "axs[0].invert_yaxis()\n",
    "\n",
    "axs[0].xaxis.set_minor_locator(AutoMinorLocator(5))\n",
    "axs[0].yaxis.set_minor_locator(AutoMinorLocator(5))\n",
    "\n",
    "axs[0].grid(True)\n",
    "axs[0].grid(which='minor', axis='both', alpha=0.15)\n",
    "\n",
    "###\n",
    "\n",
    "log_T_eff = iso.values['log_T_eff'][s]\n",
    "log_g = iso.values['log_g'][s]\n",
    "\n",
    "axs[1].plot(10**log_T_eff, log_g, '-')\n",
    "\n",
    "# axs[1].axvline(4000, c='r')\n",
    "# axs[1].axvline(4750, c='r')\n",
    "# axs[1].axvline(5500, c='r')\n",
    "\n",
    "axs[1].axvline(3500, c='r')\n",
    "axs[1].axvline(4500, c='r')\n",
    "axs[1].axvline(5500, c='r')\n",
    "\n",
    "# axs[1].axvline(3500, c='r')\n",
    "# axs[1].axvline(4750, c='r')\n",
    "# axs[1].axvline(5250, c='r')\n",
    "\n",
    "axs[1].invert_xaxis()\n",
    "axs[1].invert_yaxis()\n",
    "\n",
    "axs[1].xaxis.set_minor_locator(AutoMinorLocator(4))\n",
    "axs[1].yaxis.set_minor_locator(AutoMinorLocator(4))\n",
    "\n",
    "axs[1].grid(True)\n",
    "axs[1].grid(which='minor', axis='both', alpha=0.15)"
   ]
  },
  {
   "attachments": {},
   "cell_type": "markdown",
   "id": "1d4bf043-582a-44c5-b3c9-bf9e4f8ff272",
   "metadata": {},
   "source": [
    "## Plot parameter coverage"
   ]
  },
  {
   "cell_type": "code",
   "execution_count": 0,
   "id": "9ff9d880-ddd6-41b6-a154-9a454b28c4cc",
   "metadata": {},
   "outputs": [],
   "source": [
    "value = iso.values[MAG1].numpy()\n",
    "index = np.where(~np.isnan(value) & ~np.isinf(value))\n",
    "index"
   ]
  },
  {
   "cell_type": "code",
   "execution_count": 0,
   "id": "c2c97c05-23a0-4ce8-8a40-af43817d78b3",
   "metadata": {},
   "outputs": [],
   "source": [
    "iso.Fe_H"
   ]
  },
  {
   "cell_type": "code",
   "execution_count": 0,
   "id": "87977be5-6ac1-432c-88ac-e5b418dea3c9",
   "metadata": {},
   "outputs": [],
   "source": [
    "plt.figure(figsize=(6, 6), dpi=96, facecolor='w')\n",
    "plt.plot(iso.Fe_H.numpy()[index[0]], iso.log_t.numpy()[index[1]], '.', alpha=0.01)\n",
    "plt.xlabel('[Fe/H]')\n",
    "plt.ylabel('log age (Gyr)')"
   ]
  },
  {
   "cell_type": "code",
   "execution_count": 0,
   "id": "f048883a-8de8-419f-8d8f-6ee4e12fddef",
   "metadata": {},
   "outputs": [],
   "source": [
    "for fe_h in range(iso.Fe_H.shape[0]):\n",
    "    filt = index[0] == fe_h\n",
    "\n",
    "    plt.figure(figsize=(6, 6), dpi=96, facecolor='w')\n",
    "    plt.plot(iso.log_t.numpy()[index[1][filt]], iso.EEP.numpy()[index[2][filt]], '.')\n",
    "    plt.xlabel('log age (Gyr)')\n",
    "    plt.ylabel('EEP')\n",
    "    plt.title('[Fe/H] = {}'.format(iso.Fe_H[fe_h]))"
   ]
  },
  {
   "cell_type": "code",
   "execution_count": 0,
   "id": "2a852780-2a98-4654-bf01-0c735b504bf0",
   "metadata": {},
   "outputs": [],
   "source": []
  }
 ],
 "metadata": {
  "kernelspec": {
   "display_name": "astro-torch",
   "language": "python",
   "name": "python3"
  },
  "language_info": {
   "codemirror_mode": {
    "name": "ipython",
    "version": 3
   },
   "file_extension": ".py",
   "mimetype": "text/x-python",
   "name": "python",
   "nbconvert_exporter": "python",
   "pygments_lexer": "ipython3",
   "version": "3.7.12"
  }
 },
 "nbformat": 4,
 "nbformat_minor": 5
}